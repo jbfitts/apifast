{
 "cells": [
  {
   "cell_type": "code",
   "execution_count": null,
   "metadata": {},
   "outputs": [],
   "source": [
    "import pandas as pd\n",
    "import numpy as np \n",
    "import matplotlib.pyplot as plt \n",
    "import seaborn as sns"
   ]
  },
  {
   "cell_type": "code",
   "execution_count": null,
   "metadata": {},
   "outputs": [],
   "source": [
    "df = pd.read_csv(\"~/Desktop/dataApiFast/used_car_sales.csv\")"
   ]
  },
  {
   "cell_type": "code",
   "execution_count": null,
   "metadata": {},
   "outputs": [],
   "source": [
    "zips = pd.read_csv(\"~/Desktop/dataApiFast/ZIP-COUNTY-FIPS_2017-06.csv\")"
   ]
  },
  {
   "cell_type": "code",
   "execution_count": null,
   "metadata": {},
   "outputs": [],
   "source": [
    "df.head()"
   ]
  },
  {
   "cell_type": "code",
   "execution_count": null,
   "metadata": {},
   "outputs": [],
   "source": [
    "df.zipcode=df.zipcode.astype('str')\n",
    "zips['ZIP']=zips['ZIP'].astype('str')"
   ]
  },
  {
   "cell_type": "code",
   "execution_count": null,
   "metadata": {},
   "outputs": [],
   "source": [
    "df_with_state=pd.merge(df,zips[['ZIP','STATE']],left_on='zipcode',right_on='ZIP',how='inner')"
   ]
  },
  {
   "cell_type": "code",
   "execution_count": null,
   "metadata": {},
   "outputs": [],
   "source": [
    "df_with_state=df_with_state[df_with_state['Mileage']<300000]"
   ]
  },
  {
   "cell_type": "code",
   "execution_count": null,
   "metadata": {},
   "outputs": [],
   "source": [
    "# Creating a heatmap using Seaborn\n",
    "heatmap_data = df_with_state[['yearsold', 'pricesold', 'Mileage', 'Year']]\n",
    "heatmap_data['yearsoldByMileage']=heatmap_data.yearsold*heatmap_data.Mileage\n",
    "heatmap_data['Age']=heatmap_data['yearsold']-heatmap_data['Year']\n",
    "heatmap_data['Age'][heatmap_data['Age']<0]=np.nan\n",
    "heatmap_data['Age'][heatmap_data['Age']>150]=np.nan\n",
    "\n"
   ]
  },
  {
   "cell_type": "code",
   "execution_count": null,
   "metadata": {},
   "outputs": [],
   "source": [
    "# heatmap = sns.heatmap(heatmap_data.corr(), annot=True, cmap='coolwarm', fmt=\".2f\")\n",
    "\n",
    "sns.scatterplot(data=heatmap_data, y='pricesold', x='Age')\n",
    "\n",
    "\n",
    "# # Adding labels\n",
    "# plt.title('Heatmap of Correlation Between Columns')\n",
    "# plt.show()\n"
   ]
  },
  {
   "cell_type": "code",
   "execution_count": null,
   "metadata": {},
   "outputs": [],
   "source": [
    "heatmap_data.corr()"
   ]
  },
  {
   "cell_type": "code",
   "execution_count": null,
   "metadata": {},
   "outputs": [],
   "source": []
  }
 ],
 "metadata": {
  "kernelspec": {
   "display_name": "fastapienvi",
   "language": "python",
   "name": "python3"
  },
  "language_info": {
   "codemirror_mode": {
    "name": "ipython",
    "version": 3
   },
   "file_extension": ".py",
   "mimetype": "text/x-python",
   "name": "python",
   "nbconvert_exporter": "python",
   "pygments_lexer": "ipython3",
   "version": "3.9.7"
  }
 },
 "nbformat": 4,
 "nbformat_minor": 2
}
