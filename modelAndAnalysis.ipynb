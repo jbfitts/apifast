{
 "cells": [
  {
   "cell_type": "code",
   "execution_count": null,
   "metadata": {},
   "outputs": [],
   "source": [
    "import pandas as pd\n",
    "import numpy as np \n",
    "import matplotlib.pyplot as plt \n",
    "import seaborn as sns"
   ]
  },
  {
   "cell_type": "code",
   "execution_count": null,
   "metadata": {},
   "outputs": [],
   "source": [
    "df = pd.read_csv(\"~/Desktop/dataApiFast/used_car_sales.csv\")"
   ]
  },
  {
   "cell_type": "code",
   "execution_count": null,
   "metadata": {},
   "outputs": [],
   "source": [
    "zips = pd.read_csv(\"~/Desktop/dataApiFast/ZIP-COUNTY-FIPS_2017-06.csv\")"
   ]
  },
  {
   "cell_type": "code",
   "execution_count": null,
   "metadata": {},
   "outputs": [],
   "source": [
    "df.head()"
   ]
  },
  {
   "cell_type": "code",
   "execution_count": null,
   "metadata": {},
   "outputs": [],
   "source": [
    "df.Make.unique()"
   ]
  },
  {
   "cell_type": "code",
   "execution_count": null,
   "metadata": {},
   "outputs": [],
   "source": [
    "df.zipcode=df.zipcode.astype('str')\n",
    "zips['ZIP']=zips['ZIP'].astype('str')"
   ]
  },
  {
   "cell_type": "code",
   "execution_count": null,
   "metadata": {},
   "outputs": [],
   "source": [
    "df_with_state=pd.merge(df,zips[['ZIP','STATE']],left_on='zipcode',right_on='ZIP',how='inner')"
   ]
  },
  {
   "cell_type": "code",
   "execution_count": null,
   "metadata": {},
   "outputs": [],
   "source": [
    "df_with_state=df_with_state[df_with_state.NumCylinders<17]"
   ]
  },
  {
   "cell_type": "code",
   "execution_count": null,
   "metadata": {},
   "outputs": [],
   "source": [
    "df_with_state.NumCylinders.unique()"
   ]
  },
  {
   "cell_type": "code",
   "execution_count": null,
   "metadata": {},
   "outputs": [],
   "source": [
    "df_with_state=df_with_state[df_with_state['Mileage']<300000]"
   ]
  },
  {
   "cell_type": "code",
   "execution_count": null,
   "metadata": {},
   "outputs": [],
   "source": [
    "# Creating a heatmap using Seaborn\n",
    "heatmap_data = df_with_state[['yearsold', 'pricesold', 'Mileage', 'Year']]\n",
    "heatmap_data['yearsoldByMileage']=heatmap_data.yearsold*heatmap_data.Mileage\n",
    "heatmap_data['Age']=heatmap_data['yearsold']-heatmap_data['Year']\n",
    "heatmap_data['Age'][heatmap_data['Age']<0]=np.nan\n",
    "heatmap_data['Age'][heatmap_data['Age']>150]=np.nan\n",
    "heatmap_data['ageByMileage']=heatmap_data['Age']*heatmap_data['Mileage']\n",
    "\n"
   ]
  },
  {
   "cell_type": "code",
   "execution_count": null,
   "metadata": {},
   "outputs": [],
   "source": [
    "heatmap = sns.heatmap(heatmap_data.corr(), annot=True, cmap='coolwarm', fmt=\".2f\")\n",
    "\n",
    "#sns.scatterplot(data=heatmap_data, y='pricesold', x=heatmap_data['Age'])\n",
    "\n",
    "\n",
    "# # Adding labels\n",
    "# plt.title('Heatmap of Correlation Between Columns')\n",
    "# plt.show()\n"
   ]
  },
  {
   "cell_type": "code",
   "execution_count": null,
   "metadata": {},
   "outputs": [],
   "source": [
    "heatmap_data.corr()"
   ]
  },
  {
   "cell_type": "code",
   "execution_count": null,
   "metadata": {},
   "outputs": [],
   "source": [
    "df_with_state=df_with_state[df_with_state['pricesold']<30000]"
   ]
  },
  {
   "cell_type": "code",
   "execution_count": null,
   "metadata": {},
   "outputs": [],
   "source": [
    "make=pd.get_dummies(df_with_state['Make'])\n",
    "drivetype=pd.get_dummies(df_with_state['DriveType'])\n",
    "cylinders=pd.get_dummies(df_with_state['NumCylinders'])\n",
    "body=pd.get_dummies(df_with_state['BodyType'])\n",
    "state=pd.get_dummies(df_with_state['STATE'])\n",
    "\n"
   ]
  },
  {
   "cell_type": "code",
   "execution_count": null,
   "metadata": {},
   "outputs": [],
   "source": [
    "df_with_state_and_dummies=pd.concat([df_with_state,make],axis=1)\n",
    "df_with_state_and_dummies=pd.concat([df_with_state_and_dummies,drivetype],axis=1)\n",
    "df_with_state_and_dummies=pd.concat([df_with_state_and_dummies,cylinders],axis=1)\n",
    "df_with_state_and_dummies=pd.concat([df_with_state_and_dummies,body],axis=1)\n",
    "df_with_state_and_dummies=pd.concat([df_with_state_and_dummies,state],axis=1)\n",
    "\n"
   ]
  },
  {
   "cell_type": "code",
   "execution_count": null,
   "metadata": {},
   "outputs": [],
   "source": [
    "df_with_state_and_dummies['Age']=df_with_state_and_dummies['yearsold']-df_with_state_and_dummies['Year']\n",
    "df_with_state_and_dummies=df_with_state_and_dummies[df_with_state_and_dummies['Age']<150]\n",
    "df_with_state_and_dummies=df_with_state_and_dummies[df_with_state_and_dummies['Age']>-1]\n"
   ]
  },
  {
   "cell_type": "code",
   "execution_count": null,
   "metadata": {},
   "outputs": [],
   "source": [
    "df_with_state_and_dummies.columns"
   ]
  },
  {
   "cell_type": "code",
   "execution_count": null,
   "metadata": {},
   "outputs": [],
   "source": [
    "'Year','yearsold','ID','zipcode','ZIP','Engine'"
   ]
  },
  {
   "cell_type": "code",
   "execution_count": null,
   "metadata": {},
   "outputs": [],
   "source": [
    "df_with_state_and_dummies.drop(columns=['Trim','Year','yearsold','ID','zipcode','ZIP','Engine','DriveType','NumCylinders','Make','Model','BodyType','STATE'],inplace=True)"
   ]
  },
  {
   "cell_type": "code",
   "execution_count": null,
   "metadata": {},
   "outputs": [],
   "source": [
    "df_with_state_and_dummies.columns"
   ]
  },
  {
   "cell_type": "code",
   "execution_count": null,
   "metadata": {},
   "outputs": [],
   "source": [
    "from sklearn.linear_model import LinearRegression\n",
    "from sklearn.model_selection import train_test_split\n",
    "from sklearn.metrics import mean_absolute_error\n",
    "from sklearn.decomposition import PCA\n",
    "from sklearn.preprocessing import StandardScaler"
   ]
  },
  {
   "cell_type": "code",
   "execution_count": null,
   "metadata": {},
   "outputs": [],
   "source": [
    "X=df_with_state_and_dummies.drop(columns=['pricesold'])\n",
    "X.select_dtypes(include='int')\n",
    "X=X.astype('int')\n",
    "y=df_with_state_and_dummies['pricesold']"
   ]
  },
  {
   "cell_type": "code",
   "execution_count": null,
   "metadata": {},
   "outputs": [],
   "source": [
    "scaler=StandardScaler()\n",
    "\n"
   ]
  },
  {
   "cell_type": "code",
   "execution_count": null,
   "metadata": {},
   "outputs": [],
   "source": []
  },
  {
   "cell_type": "code",
   "execution_count": null,
   "metadata": {},
   "outputs": [],
   "source": [
    "reg = LinearRegression()\n",
    "X_train,X_test,y_train,y_test=train_test_split(X.values,\n",
    "y,\n",
    "random_state=42,\n",
    "test_size=.2)\n",
    "scaler.fit(X_train)\n",
    "X_train=scaler.transform(X_train)\n",
    "X_test=scaler.transform(X_test)\n",
    "pca=PCA(.95)\n",
    "pca.fit(X_train)\n",
    "X_train=pca.transform(X_train)\n",
    "X_test=pca.transform(X_test)"
   ]
  },
  {
   "cell_type": "code",
   "execution_count": null,
   "metadata": {},
   "outputs": [],
   "source": [
    "reg.fit(X_train,y_train)\n",
    "y_pred=reg.predict(X_test)\n",
    "mean_absolute_error(y_test,y_pred)"
   ]
  },
  {
   "cell_type": "code",
   "execution_count": null,
   "metadata": {},
   "outputs": [],
   "source": [
    "plt.scatter(y_test,y_pred-y_test)"
   ]
  },
  {
   "cell_type": "code",
   "execution_count": null,
   "metadata": {},
   "outputs": [],
   "source": []
  }
 ],
 "metadata": {
  "kernelspec": {
   "display_name": "fastapienvi",
   "language": "python",
   "name": "python3"
  },
  "language_info": {
   "codemirror_mode": {
    "name": "ipython",
    "version": 3
   },
   "file_extension": ".py",
   "mimetype": "text/x-python",
   "name": "python",
   "nbconvert_exporter": "python",
   "pygments_lexer": "ipython3",
   "version": "3.9.7"
  }
 },
 "nbformat": 4,
 "nbformat_minor": 2
}
